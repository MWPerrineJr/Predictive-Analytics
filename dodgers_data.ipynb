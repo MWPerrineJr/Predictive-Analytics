{
 "cells": [
  {
   "cell_type": "code",
   "execution_count": 51,
   "id": "f16647ff",
   "metadata": {},
   "outputs": [],
   "source": [
    "# Import necessary libraries\n",
    "import pandas as pd\n",
    "import numpy as np\n",
    "import matplotlib.pyplot as plt\n",
    "from sklearn.model_selection import train_test_split\n",
    "from sklearn.ensemble import GradientBoostingClassifier\n",
    "from sklearn.metrics import f1_score\n",
    "from sklearn.linear_model import LinearRegression\n",
    "from sklearn.metrics import r2_score\n",
    "from sklearn.preprocessing import MinMaxScaler\n",
    "\n",
    "%matplotlib inline"
   ]
  },
  {
   "cell_type": "code",
   "execution_count": 52,
   "id": "e5ad3bcf",
   "metadata": {},
   "outputs": [],
   "source": [
    "# Sets figure size\n",
    "plt.rcParams[\"figure.figsize\"] = (20,15)"
   ]
  },
  {
   "cell_type": "code",
   "execution_count": 53,
   "id": "2d9ba481",
   "metadata": {},
   "outputs": [],
   "source": [
    "# Reads in the dodgers data file\n",
    "dodgers = pd.read_csv(r'dodgers-2022.csv')"
   ]
  },
  {
   "cell_type": "code",
   "execution_count": 54,
   "id": "66e2135e",
   "metadata": {},
   "outputs": [
    {
     "data": {
      "text/html": [
       "<div>\n",
       "<style scoped>\n",
       "    .dataframe tbody tr th:only-of-type {\n",
       "        vertical-align: middle;\n",
       "    }\n",
       "\n",
       "    .dataframe tbody tr th {\n",
       "        vertical-align: top;\n",
       "    }\n",
       "\n",
       "    .dataframe thead th {\n",
       "        text-align: right;\n",
       "    }\n",
       "</style>\n",
       "<table border=\"1\" class=\"dataframe\">\n",
       "  <thead>\n",
       "    <tr style=\"text-align: right;\">\n",
       "      <th></th>\n",
       "      <th>month</th>\n",
       "      <th>day</th>\n",
       "      <th>attend</th>\n",
       "      <th>day_of_week</th>\n",
       "      <th>opponent</th>\n",
       "      <th>temp</th>\n",
       "      <th>skies</th>\n",
       "      <th>day_night</th>\n",
       "      <th>cap</th>\n",
       "      <th>shirt</th>\n",
       "      <th>fireworks</th>\n",
       "      <th>bobblehead</th>\n",
       "    </tr>\n",
       "  </thead>\n",
       "  <tbody>\n",
       "    <tr>\n",
       "      <th>0</th>\n",
       "      <td>APR</td>\n",
       "      <td>10</td>\n",
       "      <td>56000</td>\n",
       "      <td>Tuesday</td>\n",
       "      <td>Pirates</td>\n",
       "      <td>67</td>\n",
       "      <td>Clear</td>\n",
       "      <td>Day</td>\n",
       "      <td>NO</td>\n",
       "      <td>NO</td>\n",
       "      <td>NO</td>\n",
       "      <td>NO</td>\n",
       "    </tr>\n",
       "    <tr>\n",
       "      <th>1</th>\n",
       "      <td>APR</td>\n",
       "      <td>11</td>\n",
       "      <td>29729</td>\n",
       "      <td>Wednesday</td>\n",
       "      <td>Pirates</td>\n",
       "      <td>58</td>\n",
       "      <td>Cloudy</td>\n",
       "      <td>Night</td>\n",
       "      <td>NO</td>\n",
       "      <td>NO</td>\n",
       "      <td>NO</td>\n",
       "      <td>NO</td>\n",
       "    </tr>\n",
       "    <tr>\n",
       "      <th>2</th>\n",
       "      <td>APR</td>\n",
       "      <td>12</td>\n",
       "      <td>28328</td>\n",
       "      <td>Thursday</td>\n",
       "      <td>Pirates</td>\n",
       "      <td>57</td>\n",
       "      <td>Cloudy</td>\n",
       "      <td>Night</td>\n",
       "      <td>NO</td>\n",
       "      <td>NO</td>\n",
       "      <td>NO</td>\n",
       "      <td>NO</td>\n",
       "    </tr>\n",
       "    <tr>\n",
       "      <th>3</th>\n",
       "      <td>APR</td>\n",
       "      <td>13</td>\n",
       "      <td>31601</td>\n",
       "      <td>Friday</td>\n",
       "      <td>Padres</td>\n",
       "      <td>54</td>\n",
       "      <td>Cloudy</td>\n",
       "      <td>Night</td>\n",
       "      <td>NO</td>\n",
       "      <td>NO</td>\n",
       "      <td>YES</td>\n",
       "      <td>NO</td>\n",
       "    </tr>\n",
       "    <tr>\n",
       "      <th>4</th>\n",
       "      <td>APR</td>\n",
       "      <td>14</td>\n",
       "      <td>46549</td>\n",
       "      <td>Saturday</td>\n",
       "      <td>Padres</td>\n",
       "      <td>57</td>\n",
       "      <td>Cloudy</td>\n",
       "      <td>Night</td>\n",
       "      <td>NO</td>\n",
       "      <td>NO</td>\n",
       "      <td>NO</td>\n",
       "      <td>NO</td>\n",
       "    </tr>\n",
       "  </tbody>\n",
       "</table>\n",
       "</div>"
      ],
      "text/plain": [
       "  month  day  attend day_of_week opponent  temp   skies day_night cap shirt  \\\n",
       "0   APR   10   56000     Tuesday  Pirates    67  Clear        Day  NO    NO   \n",
       "1   APR   11   29729   Wednesday  Pirates    58  Cloudy     Night  NO    NO   \n",
       "2   APR   12   28328    Thursday  Pirates    57  Cloudy     Night  NO    NO   \n",
       "3   APR   13   31601      Friday   Padres    54  Cloudy     Night  NO    NO   \n",
       "4   APR   14   46549    Saturday   Padres    57  Cloudy     Night  NO    NO   \n",
       "\n",
       "  fireworks bobblehead  \n",
       "0        NO         NO  \n",
       "1        NO         NO  \n",
       "2        NO         NO  \n",
       "3       YES         NO  \n",
       "4        NO         NO  "
      ]
     },
     "execution_count": 54,
     "metadata": {},
     "output_type": "execute_result"
    }
   ],
   "source": [
    "# Displays the first five rows\n",
    "dodgers.head()"
   ]
  },
  {
   "cell_type": "code",
   "execution_count": 55,
   "id": "9392c64a",
   "metadata": {},
   "outputs": [],
   "source": [
    "# Converts categorical variables to 1 and 0 variables\n",
    "dodgers_transform = pd.get_dummies(dodgers, dtype = int)"
   ]
  },
  {
   "cell_type": "code",
   "execution_count": 56,
   "id": "299db977",
   "metadata": {},
   "outputs": [
    {
     "data": {
      "text/html": [
       "<div>\n",
       "<style scoped>\n",
       "    .dataframe tbody tr th:only-of-type {\n",
       "        vertical-align: middle;\n",
       "    }\n",
       "\n",
       "    .dataframe tbody tr th {\n",
       "        vertical-align: top;\n",
       "    }\n",
       "\n",
       "    .dataframe thead th {\n",
       "        text-align: right;\n",
       "    }\n",
       "</style>\n",
       "<table border=\"1\" class=\"dataframe\">\n",
       "  <thead>\n",
       "    <tr style=\"text-align: right;\">\n",
       "      <th></th>\n",
       "      <th>day</th>\n",
       "      <th>attend</th>\n",
       "      <th>temp</th>\n",
       "      <th>month_APR</th>\n",
       "      <th>month_AUG</th>\n",
       "      <th>month_JUL</th>\n",
       "      <th>month_JUN</th>\n",
       "      <th>month_MAY</th>\n",
       "      <th>month_OCT</th>\n",
       "      <th>month_SEP</th>\n",
       "      <th>...</th>\n",
       "      <th>day_night_Day</th>\n",
       "      <th>day_night_Night</th>\n",
       "      <th>cap_NO</th>\n",
       "      <th>cap_YES</th>\n",
       "      <th>shirt_NO</th>\n",
       "      <th>shirt_YES</th>\n",
       "      <th>fireworks_NO</th>\n",
       "      <th>fireworks_YES</th>\n",
       "      <th>bobblehead_NO</th>\n",
       "      <th>bobblehead_YES</th>\n",
       "    </tr>\n",
       "  </thead>\n",
       "  <tbody>\n",
       "    <tr>\n",
       "      <th>0</th>\n",
       "      <td>10</td>\n",
       "      <td>56000</td>\n",
       "      <td>67</td>\n",
       "      <td>1</td>\n",
       "      <td>0</td>\n",
       "      <td>0</td>\n",
       "      <td>0</td>\n",
       "      <td>0</td>\n",
       "      <td>0</td>\n",
       "      <td>0</td>\n",
       "      <td>...</td>\n",
       "      <td>1</td>\n",
       "      <td>0</td>\n",
       "      <td>1</td>\n",
       "      <td>0</td>\n",
       "      <td>1</td>\n",
       "      <td>0</td>\n",
       "      <td>1</td>\n",
       "      <td>0</td>\n",
       "      <td>1</td>\n",
       "      <td>0</td>\n",
       "    </tr>\n",
       "    <tr>\n",
       "      <th>1</th>\n",
       "      <td>11</td>\n",
       "      <td>29729</td>\n",
       "      <td>58</td>\n",
       "      <td>1</td>\n",
       "      <td>0</td>\n",
       "      <td>0</td>\n",
       "      <td>0</td>\n",
       "      <td>0</td>\n",
       "      <td>0</td>\n",
       "      <td>0</td>\n",
       "      <td>...</td>\n",
       "      <td>0</td>\n",
       "      <td>1</td>\n",
       "      <td>1</td>\n",
       "      <td>0</td>\n",
       "      <td>1</td>\n",
       "      <td>0</td>\n",
       "      <td>1</td>\n",
       "      <td>0</td>\n",
       "      <td>1</td>\n",
       "      <td>0</td>\n",
       "    </tr>\n",
       "    <tr>\n",
       "      <th>2</th>\n",
       "      <td>12</td>\n",
       "      <td>28328</td>\n",
       "      <td>57</td>\n",
       "      <td>1</td>\n",
       "      <td>0</td>\n",
       "      <td>0</td>\n",
       "      <td>0</td>\n",
       "      <td>0</td>\n",
       "      <td>0</td>\n",
       "      <td>0</td>\n",
       "      <td>...</td>\n",
       "      <td>0</td>\n",
       "      <td>1</td>\n",
       "      <td>1</td>\n",
       "      <td>0</td>\n",
       "      <td>1</td>\n",
       "      <td>0</td>\n",
       "      <td>1</td>\n",
       "      <td>0</td>\n",
       "      <td>1</td>\n",
       "      <td>0</td>\n",
       "    </tr>\n",
       "    <tr>\n",
       "      <th>3</th>\n",
       "      <td>13</td>\n",
       "      <td>31601</td>\n",
       "      <td>54</td>\n",
       "      <td>1</td>\n",
       "      <td>0</td>\n",
       "      <td>0</td>\n",
       "      <td>0</td>\n",
       "      <td>0</td>\n",
       "      <td>0</td>\n",
       "      <td>0</td>\n",
       "      <td>...</td>\n",
       "      <td>0</td>\n",
       "      <td>1</td>\n",
       "      <td>1</td>\n",
       "      <td>0</td>\n",
       "      <td>1</td>\n",
       "      <td>0</td>\n",
       "      <td>0</td>\n",
       "      <td>1</td>\n",
       "      <td>1</td>\n",
       "      <td>0</td>\n",
       "    </tr>\n",
       "    <tr>\n",
       "      <th>4</th>\n",
       "      <td>14</td>\n",
       "      <td>46549</td>\n",
       "      <td>57</td>\n",
       "      <td>1</td>\n",
       "      <td>0</td>\n",
       "      <td>0</td>\n",
       "      <td>0</td>\n",
       "      <td>0</td>\n",
       "      <td>0</td>\n",
       "      <td>0</td>\n",
       "      <td>...</td>\n",
       "      <td>0</td>\n",
       "      <td>1</td>\n",
       "      <td>1</td>\n",
       "      <td>0</td>\n",
       "      <td>1</td>\n",
       "      <td>0</td>\n",
       "      <td>1</td>\n",
       "      <td>0</td>\n",
       "      <td>1</td>\n",
       "      <td>0</td>\n",
       "    </tr>\n",
       "  </tbody>\n",
       "</table>\n",
       "<p>5 rows × 46 columns</p>\n",
       "</div>"
      ],
      "text/plain": [
       "   day  attend  temp  month_APR  month_AUG  month_JUL  month_JUN  month_MAY  \\\n",
       "0   10   56000    67          1          0          0          0          0   \n",
       "1   11   29729    58          1          0          0          0          0   \n",
       "2   12   28328    57          1          0          0          0          0   \n",
       "3   13   31601    54          1          0          0          0          0   \n",
       "4   14   46549    57          1          0          0          0          0   \n",
       "\n",
       "   month_OCT  month_SEP  ...  day_night_Day  day_night_Night  cap_NO  cap_YES  \\\n",
       "0          0          0  ...              1                0       1        0   \n",
       "1          0          0  ...              0                1       1        0   \n",
       "2          0          0  ...              0                1       1        0   \n",
       "3          0          0  ...              0                1       1        0   \n",
       "4          0          0  ...              0                1       1        0   \n",
       "\n",
       "   shirt_NO  shirt_YES  fireworks_NO  fireworks_YES  bobblehead_NO  \\\n",
       "0         1          0             1              0              1   \n",
       "1         1          0             1              0              1   \n",
       "2         1          0             1              0              1   \n",
       "3         1          0             0              1              1   \n",
       "4         1          0             1              0              1   \n",
       "\n",
       "   bobblehead_YES  \n",
       "0               0  \n",
       "1               0  \n",
       "2               0  \n",
       "3               0  \n",
       "4               0  \n",
       "\n",
       "[5 rows x 46 columns]"
      ]
     },
     "execution_count": 56,
     "metadata": {},
     "output_type": "execute_result"
    }
   ],
   "source": [
    "# Displays the newly transformed variables\n",
    "dodgers_transform.head()"
   ]
  },
  {
   "cell_type": "code",
   "execution_count": 57,
   "id": "0d68a1ea",
   "metadata": {},
   "outputs": [],
   "source": [
    "# Creates the X features for analysis\n",
    "X = dodgers_transform.drop(('attend'), axis = 1)"
   ]
  },
  {
   "cell_type": "code",
   "execution_count": 58,
   "id": "46d4f8a9",
   "metadata": {},
   "outputs": [
    {
     "data": {
      "text/html": [
       "<div>\n",
       "<style scoped>\n",
       "    .dataframe tbody tr th:only-of-type {\n",
       "        vertical-align: middle;\n",
       "    }\n",
       "\n",
       "    .dataframe tbody tr th {\n",
       "        vertical-align: top;\n",
       "    }\n",
       "\n",
       "    .dataframe thead th {\n",
       "        text-align: right;\n",
       "    }\n",
       "</style>\n",
       "<table border=\"1\" class=\"dataframe\">\n",
       "  <thead>\n",
       "    <tr style=\"text-align: right;\">\n",
       "      <th></th>\n",
       "      <th>day</th>\n",
       "      <th>temp</th>\n",
       "      <th>month_APR</th>\n",
       "      <th>month_AUG</th>\n",
       "      <th>month_JUL</th>\n",
       "      <th>month_JUN</th>\n",
       "      <th>month_MAY</th>\n",
       "      <th>month_OCT</th>\n",
       "      <th>month_SEP</th>\n",
       "      <th>day_of_week_Friday</th>\n",
       "      <th>...</th>\n",
       "      <th>day_night_Day</th>\n",
       "      <th>day_night_Night</th>\n",
       "      <th>cap_NO</th>\n",
       "      <th>cap_YES</th>\n",
       "      <th>shirt_NO</th>\n",
       "      <th>shirt_YES</th>\n",
       "      <th>fireworks_NO</th>\n",
       "      <th>fireworks_YES</th>\n",
       "      <th>bobblehead_NO</th>\n",
       "      <th>bobblehead_YES</th>\n",
       "    </tr>\n",
       "  </thead>\n",
       "  <tbody>\n",
       "    <tr>\n",
       "      <th>0</th>\n",
       "      <td>10</td>\n",
       "      <td>67</td>\n",
       "      <td>1</td>\n",
       "      <td>0</td>\n",
       "      <td>0</td>\n",
       "      <td>0</td>\n",
       "      <td>0</td>\n",
       "      <td>0</td>\n",
       "      <td>0</td>\n",
       "      <td>0</td>\n",
       "      <td>...</td>\n",
       "      <td>1</td>\n",
       "      <td>0</td>\n",
       "      <td>1</td>\n",
       "      <td>0</td>\n",
       "      <td>1</td>\n",
       "      <td>0</td>\n",
       "      <td>1</td>\n",
       "      <td>0</td>\n",
       "      <td>1</td>\n",
       "      <td>0</td>\n",
       "    </tr>\n",
       "    <tr>\n",
       "      <th>1</th>\n",
       "      <td>11</td>\n",
       "      <td>58</td>\n",
       "      <td>1</td>\n",
       "      <td>0</td>\n",
       "      <td>0</td>\n",
       "      <td>0</td>\n",
       "      <td>0</td>\n",
       "      <td>0</td>\n",
       "      <td>0</td>\n",
       "      <td>0</td>\n",
       "      <td>...</td>\n",
       "      <td>0</td>\n",
       "      <td>1</td>\n",
       "      <td>1</td>\n",
       "      <td>0</td>\n",
       "      <td>1</td>\n",
       "      <td>0</td>\n",
       "      <td>1</td>\n",
       "      <td>0</td>\n",
       "      <td>1</td>\n",
       "      <td>0</td>\n",
       "    </tr>\n",
       "    <tr>\n",
       "      <th>2</th>\n",
       "      <td>12</td>\n",
       "      <td>57</td>\n",
       "      <td>1</td>\n",
       "      <td>0</td>\n",
       "      <td>0</td>\n",
       "      <td>0</td>\n",
       "      <td>0</td>\n",
       "      <td>0</td>\n",
       "      <td>0</td>\n",
       "      <td>0</td>\n",
       "      <td>...</td>\n",
       "      <td>0</td>\n",
       "      <td>1</td>\n",
       "      <td>1</td>\n",
       "      <td>0</td>\n",
       "      <td>1</td>\n",
       "      <td>0</td>\n",
       "      <td>1</td>\n",
       "      <td>0</td>\n",
       "      <td>1</td>\n",
       "      <td>0</td>\n",
       "    </tr>\n",
       "    <tr>\n",
       "      <th>3</th>\n",
       "      <td>13</td>\n",
       "      <td>54</td>\n",
       "      <td>1</td>\n",
       "      <td>0</td>\n",
       "      <td>0</td>\n",
       "      <td>0</td>\n",
       "      <td>0</td>\n",
       "      <td>0</td>\n",
       "      <td>0</td>\n",
       "      <td>1</td>\n",
       "      <td>...</td>\n",
       "      <td>0</td>\n",
       "      <td>1</td>\n",
       "      <td>1</td>\n",
       "      <td>0</td>\n",
       "      <td>1</td>\n",
       "      <td>0</td>\n",
       "      <td>0</td>\n",
       "      <td>1</td>\n",
       "      <td>1</td>\n",
       "      <td>0</td>\n",
       "    </tr>\n",
       "    <tr>\n",
       "      <th>4</th>\n",
       "      <td>14</td>\n",
       "      <td>57</td>\n",
       "      <td>1</td>\n",
       "      <td>0</td>\n",
       "      <td>0</td>\n",
       "      <td>0</td>\n",
       "      <td>0</td>\n",
       "      <td>0</td>\n",
       "      <td>0</td>\n",
       "      <td>0</td>\n",
       "      <td>...</td>\n",
       "      <td>0</td>\n",
       "      <td>1</td>\n",
       "      <td>1</td>\n",
       "      <td>0</td>\n",
       "      <td>1</td>\n",
       "      <td>0</td>\n",
       "      <td>1</td>\n",
       "      <td>0</td>\n",
       "      <td>1</td>\n",
       "      <td>0</td>\n",
       "    </tr>\n",
       "  </tbody>\n",
       "</table>\n",
       "<p>5 rows × 45 columns</p>\n",
       "</div>"
      ],
      "text/plain": [
       "   day  temp  month_APR  month_AUG  month_JUL  month_JUN  month_MAY  \\\n",
       "0   10    67          1          0          0          0          0   \n",
       "1   11    58          1          0          0          0          0   \n",
       "2   12    57          1          0          0          0          0   \n",
       "3   13    54          1          0          0          0          0   \n",
       "4   14    57          1          0          0          0          0   \n",
       "\n",
       "   month_OCT  month_SEP  day_of_week_Friday  ...  day_night_Day  \\\n",
       "0          0          0                   0  ...              1   \n",
       "1          0          0                   0  ...              0   \n",
       "2          0          0                   0  ...              0   \n",
       "3          0          0                   1  ...              0   \n",
       "4          0          0                   0  ...              0   \n",
       "\n",
       "   day_night_Night  cap_NO  cap_YES  shirt_NO  shirt_YES  fireworks_NO  \\\n",
       "0                0       1        0         1          0             1   \n",
       "1                1       1        0         1          0             1   \n",
       "2                1       1        0         1          0             1   \n",
       "3                1       1        0         1          0             0   \n",
       "4                1       1        0         1          0             1   \n",
       "\n",
       "   fireworks_YES  bobblehead_NO  bobblehead_YES  \n",
       "0              0              1               0  \n",
       "1              0              1               0  \n",
       "2              0              1               0  \n",
       "3              1              1               0  \n",
       "4              0              1               0  \n",
       "\n",
       "[5 rows x 45 columns]"
      ]
     },
     "execution_count": 58,
     "metadata": {},
     "output_type": "execute_result"
    }
   ],
   "source": [
    "# Displays the first five rows\n",
    "X.head()"
   ]
  },
  {
   "cell_type": "code",
   "execution_count": 59,
   "id": "d9716612",
   "metadata": {},
   "outputs": [],
   "source": [
    "# Creates the target\n",
    "y = dodgers_transform['attend']"
   ]
  },
  {
   "cell_type": "code",
   "execution_count": 60,
   "id": "89def6d6",
   "metadata": {},
   "outputs": [
    {
     "data": {
      "text/plain": [
       "0    56000\n",
       "1    29729\n",
       "2    28328\n",
       "3    31601\n",
       "4    46549\n",
       "Name: attend, dtype: int64"
      ]
     },
     "execution_count": 60,
     "metadata": {},
     "output_type": "execute_result"
    }
   ],
   "source": [
    "# Displays the first five rows\n",
    "y.head()"
   ]
  },
  {
   "cell_type": "code",
   "execution_count": 61,
   "id": "c6571851",
   "metadata": {},
   "outputs": [],
   "source": [
    "# Splits data for model testing\n",
    "X_train, X_test, y_train, y_test = train_test_split(X, y, test_size=0.20,random_state=10)                                                                                                     "
   ]
  },
  {
   "cell_type": "code",
   "execution_count": 62,
   "id": "8e934277",
   "metadata": {},
   "outputs": [
    {
     "name": "stdout",
     "output_type": "stream",
     "text": [
      "X_train features: (64, 45)\n",
      "X_test: (17, 45)\n",
      "Y_train features: (64,)\n",
      "y_test features: (17,)\n"
     ]
    }
   ],
   "source": [
    "# Prints the dimensions of all the features\n",
    "print(\"X_train features:\" , X_train.shape)\n",
    "print(\"X_test:\", X_test.shape)\n",
    "print(\"Y_train features:\", y_train.shape)\n",
    "print(\"y_test features:\", y_test.shape)\n"
   ]
  },
  {
   "cell_type": "code",
   "execution_count": 63,
   "id": "3d4dd719",
   "metadata": {},
   "outputs": [],
   "source": [
    "# Creates linear regression object\n",
    "lm = LinearRegression()"
   ]
  },
  {
   "cell_type": "code",
   "execution_count": 64,
   "id": "55c757d1",
   "metadata": {},
   "outputs": [],
   "source": [
    "# Fits the data to the model\n",
    "model_lm = lm.fit(X_train, y_train)"
   ]
  },
  {
   "cell_type": "code",
   "execution_count": 65,
   "id": "3bbead42",
   "metadata": {},
   "outputs": [],
   "source": [
    "# Creates a prediction object\n",
    "pred_lm = model_lm.predict(X_test)"
   ]
  },
  {
   "cell_type": "code",
   "execution_count": 66,
   "id": "f8074251",
   "metadata": {},
   "outputs": [],
   "source": [
    "# Tests the data\n",
    "r_2_lm = round(r2_score(y_test, pred_lm),3)"
   ]
  },
  {
   "cell_type": "code",
   "execution_count": 67,
   "id": "474ed95b",
   "metadata": {},
   "outputs": [
    {
     "name": "stdout",
     "output_type": "stream",
     "text": [
      " R-Squared Score is: -0.074\n"
     ]
    }
   ],
   "source": [
    "# Prints the R-Squared result\n",
    "print(\" R-Squared Score is:\", r_2_lm)"
   ]
  },
  {
   "cell_type": "code",
   "execution_count": 68,
   "id": "c810b102",
   "metadata": {},
   "outputs": [],
   "source": [
    "# Creates a copy of the training and testing data\n",
    "X_train_v1, X_test_v1, y_train_v1, y_test_v1=  X_train.copy(), X_test.copy(), y_train.copy(), y_test.copy()"
   ]
  },
  {
   "cell_type": "code",
   "execution_count": 69,
   "id": "5c55b3b2",
   "metadata": {},
   "outputs": [
    {
     "name": "stdout",
     "output_type": "stream",
     "text": [
      "X_train_v1 features: (64, 45)\n",
      "X_tes_v1t: (17, 45)\n",
      "Y_train_v1 features: (64,)\n",
      "y_test_v1 features: (17,)\n"
     ]
    }
   ],
   "source": [
    "print(\"X_train_v1 features:\" , X_train_v1.shape)\n",
    "print(\"X_tes_v1t:\", X_test_v1.shape)\n",
    "print(\"Y_train_v1 features:\", y_train_v1.shape)\n",
    "print(\"y_test_v1 features:\", y_test_v1.shape)"
   ]
  },
  {
   "cell_type": "code",
   "execution_count": null,
   "id": "9a3524ce",
   "metadata": {},
   "outputs": [],
   "source": [
    "X_train_v1.var(axis=0)"
   ]
  },
  {
   "cell_type": "code",
   "execution_count": 71,
   "id": "106ecb68",
   "metadata": {},
   "outputs": [],
   "source": [
    "scaler = MinMaxScaler()"
   ]
  },
  {
   "cell_type": "code",
   "execution_count": 72,
   "id": "9c468256",
   "metadata": {},
   "outputs": [],
   "source": [
    "X_train_v1_scaled = scaler.fit_transform(X_train_v1)"
   ]
  },
  {
   "cell_type": "code",
   "execution_count": 76,
   "id": "33cca188",
   "metadata": {},
   "outputs": [
    {
     "data": {
      "image/png": "[encoded data removed]",
      "text/plain": [
       "<Figure size 2000x1500 with 1 Axes>"
      ]
     },
     "metadata": {},
     "output_type": "display_data"
    }
   ],
   "source": [
    "fig, ax = plt.subplots()\n",
    "\n",
    "x = X.columns\n",
    "y = X_train_v1_scaled.var(axis=0)\n",
    "\n",
    "ax.bar(x, y, width=0.2)\n",
    "ax.set_xlabel('Features')\n",
    "ax.set_xlabel('Variance')\n",
    "ax.set_ylim(0, 0.2)\n",
    "\n",
    "for index, value in enumerate(y):\n",
    "    plt.text(x=index, y=value+0.001, s=str(round(value, 3)), ha='center')\n",
    "    \n",
    "fig.autofmt_xdate()\n",
    "plt.tight_layout()"
   ]
  },
  {
   "cell_type": "code",
   "execution_count": 78,
   "id": "db0c33a3",
   "metadata": {},
   "outputs": [],
   "source": [
    "\n",
    "sel_X_train = X_train_v1.drop(['temp', 'opponent_Angels', 'opponent_Astros', 'opponent_Braves', 'opponent_Brewers',\n",
    "                            'opponent_Cardinals', 'opponent_Cubs', 'opponent_Giants', 'opponent_Marlins', 'opponent_Mets',\n",
    "                            'opponent_Nationals', 'opponent_Padres', 'opponent_Phillies','opponent_Pirates', \n",
    "                            'opponent_Reds', 'opponent_Rockies','opponent_Snakes', 'opponent_White Sox', 'cap_NO', \n",
    "                            'cap_YES' ], axis=1)\n"
   ]
  },
  {
   "cell_type": "code",
   "execution_count": 79,
   "id": "50210e90",
   "metadata": {},
   "outputs": [],
   "source": [
    "sel_X_test = X_test_v1.drop(['temp', 'opponent_Angels', 'opponent_Astros', 'opponent_Braves', 'opponent_Brewers',\n",
    "                            'opponent_Cardinals', 'opponent_Cubs', 'opponent_Giants', 'opponent_Marlins', 'opponent_Mets',\n",
    "                            'opponent_Nationals', 'opponent_Padres', 'opponent_Phillies','opponent_Pirates', \n",
    "                            'opponent_Reds', 'opponent_Rockies','opponent_Snakes', 'opponent_White Sox', 'cap_NO', \n",
    "                            'cap_YES' ], axis=1)"
   ]
  },
  {
   "cell_type": "code",
   "execution_count": 80,
   "id": "9838bf9a",
   "metadata": {},
   "outputs": [],
   "source": [
    "model_lm_1 = lm.fit(sel_X_train, y_train_v1)"
   ]
  },
  {
   "cell_type": "code",
   "execution_count": 81,
   "id": "44fce5b4",
   "metadata": {},
   "outputs": [],
   "source": [
    "sel_pred = model_lm_1.predict(sel_X_test)"
   ]
  },
  {
   "cell_type": "code",
   "execution_count": 83,
   "id": "d6c70451",
   "metadata": {},
   "outputs": [],
   "source": [
    "sel_r2 = round(r2_score(y_test, sel_pred),3)"
   ]
  },
  {
   "cell_type": "code",
   "execution_count": 85,
   "id": "31cda9e4",
   "metadata": {},
   "outputs": [
    {
     "name": "stdout",
     "output_type": "stream",
     "text": [
      "New R-Squared: 0.382\n"
     ]
    }
   ],
   "source": [
    "print(\"New R-Squared:\", sel_r2 )"
   ]
  },
  {
   "cell_type": "code",
   "execution_count": 88,
   "id": "f0ceeefe",
   "metadata": {},
   "outputs": [
    {
     "data": {
      "text/plain": [
       "Index(['day', 'temp', 'month_APR', 'month_AUG', 'month_JUL', 'month_JUN',\n",
       "       'month_MAY', 'month_OCT', 'month_SEP', 'day_of_week_Friday',\n",
       "       'day_of_week_Monday', 'day_of_week_Saturday', 'day_of_week_Sunday',\n",
       "       'day_of_week_Thursday', 'day_of_week_Tuesday', 'day_of_week_Wednesday',\n",
       "       'opponent_Angels', 'opponent_Astros', 'opponent_Braves',\n",
       "       'opponent_Brewers', 'opponent_Cardinals', 'opponent_Cubs',\n",
       "       'opponent_Giants', 'opponent_Marlins', 'opponent_Mets',\n",
       "       'opponent_Nationals', 'opponent_Padres', 'opponent_Phillies',\n",
       "       'opponent_Pirates', 'opponent_Reds', 'opponent_Rockies',\n",
       "       'opponent_Snakes', 'opponent_White Sox', 'skies_Clear ', 'skies_Cloudy',\n",
       "       'day_night_Day', 'day_night_Night', 'cap_NO', 'cap_YES', 'shirt_NO',\n",
       "       'shirt_YES', 'fireworks_NO', 'fireworks_YES', 'bobblehead_NO',\n",
       "       'bobblehead_YES'],\n",
       "      dtype='object')"
      ]
     },
     "execution_count": 88,
     "metadata": {},
     "output_type": "execute_result"
    }
   ],
   "source": [
    "X_train_v1.columns"
   ]
  },
  {
   "cell_type": "code",
   "execution_count": 89,
   "id": "39337746",
   "metadata": {},
   "outputs": [],
   "source": [
    "sel_X_train_1 = X_train_v1.drop(['temp','month_OCT', 'day_of_week_Thursday', 'opponent_Angels', 'opponent_Astros',\n",
    "                                'opponent_Braves', 'opponent_Brewers','opponent_Cubs', 'opponent_Marlins', 'opponent_Mets',\n",
    "                                'opponent_Nationals', 'opponent_Phillies','opponent_Pirates', 'opponent_Reds',\n",
    "                                'opponent_White Sox', 'cap_NO', 'cap_YES', 'shirt_NO', 'shirt_YES'], axis=1)"
   ]
  },
  {
   "cell_type": "code",
   "execution_count": 90,
   "id": "798953fd",
   "metadata": {},
   "outputs": [],
   "source": [
    "sel_X_test_1 = X_test_v1.drop(['temp','month_OCT', 'day_of_week_Thursday', 'opponent_Angels', 'opponent_Astros',\n",
    "                                'opponent_Braves', 'opponent_Brewers','opponent_Cubs', 'opponent_Marlins', 'opponent_Mets',\n",
    "                                'opponent_Nationals', 'opponent_Phillies','opponent_Pirates', 'opponent_Reds',\n",
    "                                'opponent_White Sox', 'cap_NO', 'cap_YES', 'shirt_NO', 'shirt_YES'], axis=1)"
   ]
  },
  {
   "cell_type": "code",
   "execution_count": 91,
   "id": "1ee8cd37",
   "metadata": {},
   "outputs": [],
   "source": [
    "model_lm_2 = lm.fit(sel_X_train_1, y_train_v1)"
   ]
  },
  {
   "cell_type": "code",
   "execution_count": 92,
   "id": "6836cf77",
   "metadata": {},
   "outputs": [],
   "source": [
    "sel_pred_1 = model_lm_2.predict(sel_X_test_1)"
   ]
  },
  {
   "cell_type": "code",
   "execution_count": 93,
   "id": "540a9d50",
   "metadata": {},
   "outputs": [
    {
     "name": "stdout",
     "output_type": "stream",
     "text": [
      "R-Squared Third Model: 0.256\n"
     ]
    }
   ],
   "source": [
    "sel_r2_1 = round(r2_score(y_test_v1, sel_pred_1), 3)\n",
    "print(\"R-Squared Third Model:\", sel_r2_1)"
   ]
  }
 ],
 "metadata": {
  "kernelspec": {
   "display_name": "analysis",
   "language": "python",
   "name": "python3"
  },
  "language_info": {
   "codemirror_mode": {
    "name": "ipython",
    "version": 3
   },
   "file_extension": ".py",
   "mimetype": "text/x-python",
   "name": "python",
   "nbconvert_exporter": "python",
   "pygments_lexer": "ipython3",
   "version": "3.13.2"
  }
 },
 "nbformat": 4,
 "nbformat_minor": 5
}
